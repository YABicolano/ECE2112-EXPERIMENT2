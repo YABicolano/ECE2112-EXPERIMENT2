{
 "cells": [
  {
   "cell_type": "markdown",
   "id": "b0bded74-847b-4eb0-873d-414925ed4ca2",
   "metadata": {},
   "source": [
    "### NORMALIZATION PROBLEM\n"
   ]
  },
  {
   "cell_type": "code",
   "execution_count": 4,
   "id": "abfcc680-5189-4e53-b910-973508167131",
   "metadata": {},
   "outputs": [
    {
     "name": "stdout",
     "output_type": "stream",
     "text": [
      "[[-1.74188992 -1.6729558  -1.66462754 -1.90843524 -1.9840628 ]\n",
      " [-1.41608369 -1.43777109 -2.28219204 -1.80209426 -2.26998848]\n",
      " [-1.95242615 -1.60008321 -1.80678866 -1.89491787 -1.71033484]\n",
      " [-2.22107851 -1.69208359 -1.7938127  -1.90362894 -1.70902119]\n",
      " [-2.06937222 -1.83616613 -1.54783667 -2.13657084 -1.49365785]]\n"
     ]
    }
   ],
   "source": [
    "import numpy as np                          #Start, import numpy as np to access the numpy library\n",
    "X = np.random.random((5,5))                 #Create a 5x5 array with random numbers in it\n",
    "normalizedX = (X-np.mean(X)/ np.std(X))      #store the normalization formula in a varaible\n",
    "\n",
    "np.save(\"X_normalized.npy\",normalizedX)\n",
    "\n",
    "print(normalizedX)                           #Print output, end."
   ]
  },
  {
   "cell_type": "markdown",
   "id": "2cca356f-73bb-4649-b2c1-14a8330313e4",
   "metadata": {},
   "source": [
    "### DIVISIBLE BY 3 PROBLEM"
   ]
  },
  {
   "cell_type": "code",
   "execution_count": 6,
   "id": "47ba0742-96ff-448a-bf77-ad5f3e354aad",
   "metadata": {},
   "outputs": [
    {
     "name": "stdout",
     "output_type": "stream",
     "text": [
      "[[    1     4     9    16    25    36    49    64    81   100]\n",
      " [  121   144   169   196   225   256   289   324   361   400]\n",
      " [  441   484   529   576   625   676   729   784   841   900]\n",
      " [  961  1024  1089  1156  1225  1296  1369  1444  1521  1600]\n",
      " [ 1681  1764  1849  1936  2025  2116  2209  2304  2401  2500]\n",
      " [ 2601  2704  2809  2916  3025  3136  3249  3364  3481  3600]\n",
      " [ 3721  3844  3969  4096  4225  4356  4489  4624  4761  4900]\n",
      " [ 5041  5184  5329  5476  5625  5776  5929  6084  6241  6400]\n",
      " [ 6561  6724  6889  7056  7225  7396  7569  7744  7921  8100]\n",
      " [ 8281  8464  8649  8836  9025  9216  9409  9604  9801 10000]]\n",
      "The elements divisible by 3 are:\n",
      "[   9   36   81  144  225  324  441  576  729  900 1089 1296 1521 1764\n",
      " 2025 2304 2601 2916 3249 3600 3969 4356 4761 5184 5625 6084 6561 7056\n",
      " 7569 8100 8649 9216 9801]\n"
     ]
    }
   ],
   "source": [
    "import numpy as np                           #Start, import numpy as np to access the numpy library\n",
    "\n",
    "a = np.arange(1, 101, 1)                     #Create an array with elements that are numbers form 1 to 100 and store it in a variable\n",
    "b = np.square(a).reshape((10,10))            #Variable witha function that squares all the elements in the array and reshapes it to a 10x10 matrix\n",
    "print(b)          \n",
    "c = b[b%3==0]\n",
    "\n",
    "np.save(\"div_by_3.npy\",c)\n",
    "\n",
    "print(\"The elements divisible by 3 are:\")    #Print the matrix by indexing, set a condition that only displays elements divisible by 3\n",
    "print(c)                                     #End"
   ]
  },
  {
   "cell_type": "code",
   "execution_count": null,
   "id": "e34224cf-db84-467f-95ab-547332e1e387",
   "metadata": {},
   "outputs": [],
   "source": []
  },
  {
   "cell_type": "code",
   "execution_count": null,
   "id": "ec17a0de-cdfc-482f-b59d-4fbb620fd82e",
   "metadata": {},
   "outputs": [],
   "source": [
    "\n"
   ]
  }
 ],
 "metadata": {
  "kernelspec": {
   "display_name": "Python 3 (ipykernel)",
   "language": "python",
   "name": "python3"
  },
  "language_info": {
   "codemirror_mode": {
    "name": "ipython",
    "version": 3
   },
   "file_extension": ".py",
   "mimetype": "text/x-python",
   "name": "python",
   "nbconvert_exporter": "python",
   "pygments_lexer": "ipython3",
   "version": "3.12.4"
  }
 },
 "nbformat": 4,
 "nbformat_minor": 5
}
